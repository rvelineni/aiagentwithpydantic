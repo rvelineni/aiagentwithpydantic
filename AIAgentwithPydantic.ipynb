{
 "cells": [
  {
   "cell_type": "markdown",
   "id": "7ea4aed2",
   "metadata": {},
   "source": [
    "## AI Agent with Pydantic to get the Approximate price of the Product in $$\n",
    "\n",
    "- Create a simple assistant that uses any LLM and it should use pydantic\n",
    "- When we ask about any product it should give you two information of product Name, product details tentative price in USD (integer). \n",
    "- Use chat Prompt Template."
   ]
  },
  {
   "cell_type": "code",
   "execution_count": 61,
   "id": "7c57017f",
   "metadata": {},
   "outputs": [],
   "source": [
    "# Import libraries\n",
    "import os\n",
    "from dotenv import load_dotenv\n",
    "from pydantic import BaseModel, Field\n",
    "from dataclasses import dataclass\n",
    "\n",
    "# GROQ Chat LLM\n",
    "from langchain_groq import ChatGroq\n",
    "\n",
    "# Chat Prompt Template\n",
    "from langchain_core.prompts import ChatPromptTemplate\n",
    "\n",
    "from langchain.output_parsers import PydanticOutputParser\n"
   ]
  },
  {
   "cell_type": "code",
   "execution_count": 69,
   "id": "deade08b",
   "metadata": {},
   "outputs": [],
   "source": [
    "# Create Pydantic Product class\n",
    "@dataclass\n",
    "class Product(BaseModel):\n",
    "    product_name:str=Field(description=\"Name of the Product\")\n",
    "    description:str=Field(description=\"Product Description\")\n",
    "    price:float=Field(description=\"Price of the Product\")\n",
    "    website:str=Field(description=\"Website URL\")"
   ]
  },
  {
   "cell_type": "code",
   "execution_count": null,
   "id": "f00e83ee",
   "metadata": {},
   "outputs": [],
   "source": [
    "# Load local environment\n",
    "load_dotenv()\n",
    "\n",
    "# Set environment variables\n",
    "os.environ[\"GROQ_API_KEY\"] = os.getenv(\"GROQ_API_KEY\")\n",
    "\n",
    "## LangSmith Tracking & Tracing\n",
    "os.environ[\"LANGCHAIN_API_KEY\"] = os.getenv(\"LANGCHAIN_API_KEY\")\n",
    "os.environ[\"LANGCHAIN_PROJECT\"] = os.getenv(\"LANGCHAIN_PROJECT\")\n",
    "os.environ[\"LANGCHAIN_TRACING_V2\"] = \"true\""
   ]
  },
  {
   "cell_type": "markdown",
   "id": "811cf6be",
   "metadata": {},
   "source": [
    "#### Determine the model to use"
   ]
  },
  {
   "cell_type": "code",
   "execution_count": 65,
   "id": "5095bd12",
   "metadata": {},
   "outputs": [
    {
     "name": "stdout",
     "output_type": "stream",
     "text": [
      "client=<groq.resources.chat.completions.Completions object at 0x316464800> async_client=<groq.resources.chat.completions.AsyncCompletions object at 0x3169a0d40> model_name='llama-3.1-8b-instant' model_kwargs={} groq_api_key=SecretStr('**********')\n"
     ]
    }
   ],
   "source": [
    "# LLM Model to use\n",
    "llm_groq_gemma = ChatGroq(model=\"llama-3.1-8b-instant\")\n",
    "print(llm_groq_gemma)"
   ]
  },
  {
   "cell_type": "code",
   "execution_count": 70,
   "id": "730aa273",
   "metadata": {},
   "outputs": [],
   "source": [
    "# Create the parser\n",
    "parser = PydanticOutputParser(pydantic_object=Product)\n",
    "\n",
    "# Create prompt template with format instructions\n",
    "prompt = ChatPromptTemplate.from_messages([\n",
    "    (\"system\", \"You are a product information specialist. Extract or generate product details in a structured format.\"),\n",
    "    (\"human\", \"\"\"\n",
    "    Please provide product information for: {query}\n",
    "    \n",
    "    {format_instructions}\n",
    "    \"\"\")\n",
    "])\n",
    "\n",
    "# Create the chain\n",
    "chain = prompt | llm_groq_gemma | parser\n",
    "\n",
    "# Test it\n",
    "response = chain.invoke({\n",
    "    \"query\": \"iPhone 15 Pro Max\",\n",
    "    \"format_instructions\": parser.get_format_instructions()\n",
    "})"
   ]
  },
  {
   "cell_type": "code",
   "execution_count": 71,
   "id": "059f9548",
   "metadata": {},
   "outputs": [
    {
     "name": "stdout",
     "output_type": "stream",
     "text": [
      "Product Name: MacBook Pro 16-inch\n",
      "Description: The MacBook Pro 16-inch is a high-performance laptop featuring a 16-inch Retina display, up to 64GB of RAM, and up to 8TB of storage. It's powered by Apple's M1 or M2 chip and features a range of ports including Thunderbolt 3, HDMI, and an SD card slot.\n",
      "Price: $2399.99\n",
      "Website: $https://www.apple.com/macbook-pro/\n"
     ]
    }
   ],
   "source": [
    "result = chain.invoke({\n",
    "    \"query\": \"Tell me about the MacBook Pro 16-inch\",\n",
    "    \"format_instructions\": parser.get_format_instructions()\n",
    "})\n",
    "\n",
    "print(f\"Product Name: {result.product_name}\")\n",
    "print(f\"Description: {result.description}\")\n",
    "print(f\"Price: ${result.price}\")\n",
    "print(f\"Website: ${result.website}\")"
   ]
  },
  {
   "cell_type": "code",
   "execution_count": 72,
   "id": "8184be22",
   "metadata": {},
   "outputs": [
    {
     "name": "stdout",
     "output_type": "stream",
     "text": [
      "Product Name: Samsung 65 inch 4K TV\n",
      "Description: Experience stunning 4K resolution and vibrant colors with this 65 inch Samsung TV. Enjoy a wide range of entertainment options, including streaming services and built-in apps.\n",
      "Price: $999.99\n",
      "Website: $https://www.samsung.com/us/\n",
      "}\n",
      "```\n",
      "\n",
      "**Product Details:**\n",
      "\n",
      "* **Product Name**: Samsung 65 inch 4K TV\n",
      "* **Description**: Experience stunning 4K resolution and vibrant colors with this 65 inch Samsung TV. Enjoy a wide range of entertainment options, including streaming services and built-in apps.\n",
      "* **Price**: $999.99\n",
      "* **Website**: https://www.samsung.com/us/ (Note: This website URL may be subject to change)\n",
      "\n",
      "**Technical Specifications:**\n",
      "\n",
      "* Display Size: 65 inches\n",
      "* Resolution: 3840 x 2160 (4K)\n",
      "* Panel Type: LED\n",
      "* Refresh Rate: 120Hz\n",
      "* HDR Support: Yes (HDR10+)\n",
      "* Smart TV Platform: Tizen\n",
      "* Connectivity: 4 HDMI ports, 2 USB ports, Wi-Fi, Ethernet\n",
      "\n",
      "**Additional Features:**\n",
      "\n",
      "* Ambient Mode: Yes\n",
      "* Voice Control: Yes (via Samsung Bixby)\n",
      "* Multi-Device Control: Yes\n",
      "* Mobile App Support: Yes (via Samsung SmartThings app)\n"
     ]
    }
   ],
   "source": [
    "result = chain.invoke({\n",
    "    \"query\": \"Tell me about the Samsung tv 65 inch 4K\",\n",
    "    \"format_instructions\": parser.get_format_instructions()\n",
    "})\n",
    "\n",
    "print(f\"Product Name: {result.product_name}\")\n",
    "print(f\"Description: {result.description}\")\n",
    "print(f\"Price: ${result.price}\")\n",
    "print(f\"Website: ${result.website}\")"
   ]
  }
 ],
 "metadata": {
  "kernelspec": {
   "display_name": "base",
   "language": "python",
   "name": "python3"
  },
  "language_info": {
   "codemirror_mode": {
    "name": "ipython",
    "version": 3
   },
   "file_extension": ".py",
   "mimetype": "text/x-python",
   "name": "python",
   "nbconvert_exporter": "python",
   "pygments_lexer": "ipython3",
   "version": "3.12.9"
  }
 },
 "nbformat": 4,
 "nbformat_minor": 5
}
